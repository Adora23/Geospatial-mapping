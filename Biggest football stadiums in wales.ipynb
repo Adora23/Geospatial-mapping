{
 "cells": [
  {
   "cell_type": "code",
   "execution_count": 16,
   "metadata": {},
   "outputs": [
    {
     "name": "stdout",
     "output_type": "stream",
     "text": [
      "Defaulting to user installation because normal site-packages is not writeableNote: you may need to restart the kernel to use updated packages.\n",
      "\n",
      "Requirement already satisfied: geopy in c:\\users\\pc\\appdata\\roaming\\python\\python311\\site-packages (2.4.1)\n",
      "Requirement already satisfied: folium in c:\\users\\pc\\appdata\\roaming\\python\\python311\\site-packages (0.19.5)\n",
      "Requirement already satisfied: pandas in c:\\programdata\\anaconda3\\lib\\site-packages (2.1.4)\n",
      "Requirement already satisfied: geographiclib<3,>=1.52 in c:\\users\\pc\\appdata\\roaming\\python\\python311\\site-packages (from geopy) (2.0)\n",
      "Requirement already satisfied: branca>=0.6.0 in c:\\users\\pc\\appdata\\roaming\\python\\python311\\site-packages (from folium) (0.8.1)\n",
      "Requirement already satisfied: jinja2>=2.9 in c:\\programdata\\anaconda3\\lib\\site-packages (from folium) (3.1.3)\n",
      "Requirement already satisfied: numpy in c:\\programdata\\anaconda3\\lib\\site-packages (from folium) (1.26.4)\n",
      "Requirement already satisfied: requests in c:\\programdata\\anaconda3\\lib\\site-packages (from folium) (2.31.0)\n",
      "Requirement already satisfied: xyzservices in c:\\programdata\\anaconda3\\lib\\site-packages (from folium) (2022.9.0)\n",
      "Requirement already satisfied: python-dateutil>=2.8.2 in c:\\programdata\\anaconda3\\lib\\site-packages (from pandas) (2.8.2)\n",
      "Requirement already satisfied: pytz>=2020.1 in c:\\programdata\\anaconda3\\lib\\site-packages (from pandas) (2023.3.post1)\n",
      "Requirement already satisfied: tzdata>=2022.1 in c:\\programdata\\anaconda3\\lib\\site-packages (from pandas) (2023.3)\n",
      "Requirement already satisfied: MarkupSafe>=2.0 in c:\\programdata\\anaconda3\\lib\\site-packages (from jinja2>=2.9->folium) (2.1.3)\n",
      "Requirement already satisfied: six>=1.5 in c:\\programdata\\anaconda3\\lib\\site-packages (from python-dateutil>=2.8.2->pandas) (1.16.0)\n",
      "Requirement already satisfied: charset-normalizer<4,>=2 in c:\\programdata\\anaconda3\\lib\\site-packages (from requests->folium) (2.0.4)\n",
      "Requirement already satisfied: idna<4,>=2.5 in c:\\programdata\\anaconda3\\lib\\site-packages (from requests->folium) (3.4)\n",
      "Requirement already satisfied: urllib3<3,>=1.21.1 in c:\\programdata\\anaconda3\\lib\\site-packages (from requests->folium) (2.0.7)\n",
      "Requirement already satisfied: certifi>=2017.4.17 in c:\\programdata\\anaconda3\\lib\\site-packages (from requests->folium) (2024.2.2)\n"
     ]
    }
   ],
   "source": [
    "pip install geopy folium pandas"
   ]
  },
  {
   "cell_type": "code",
   "execution_count": 25,
   "metadata": {},
   "outputs": [],
   "source": [
    "import pandas as pd\n",
    "import folium\n",
    "from geopy.geocoders import Nominatim\n",
    "from geopy.exc import GeocoderTimedOut\n",
    "import folium\n",
    "import webbrowser  # Add this import\n",
    "\n",
    "# Load the data from Excel\n",
    "df = pd.read_excel('Biggest football stadiums in wales.xlsx')\n"
   ]
  },
  {
   "cell_type": "code",
   "execution_count": 26,
   "metadata": {},
   "outputs": [
    {
     "data": {
      "text/html": [
       "<div>\n",
       "<style scoped>\n",
       "    .dataframe tbody tr th:only-of-type {\n",
       "        vertical-align: middle;\n",
       "    }\n",
       "\n",
       "    .dataframe tbody tr th {\n",
       "        vertical-align: top;\n",
       "    }\n",
       "\n",
       "    .dataframe thead th {\n",
       "        text-align: right;\n",
       "    }\n",
       "</style>\n",
       "<table border=\"1\" class=\"dataframe\">\n",
       "  <thead>\n",
       "    <tr style=\"text-align: right;\">\n",
       "      <th></th>\n",
       "      <th>capacity</th>\n",
       "      <th>stadium</th>\n",
       "      <th>postcode</th>\n",
       "      <th>team(s)</th>\n",
       "      <th>latitude and longitude</th>\n",
       "    </tr>\n",
       "  </thead>\n",
       "  <tbody>\n",
       "    <tr>\n",
       "      <th>0</th>\n",
       "      <td>10500</td>\n",
       "      <td>cwmbran stadium</td>\n",
       "      <td>NP44 3YS</td>\n",
       "      <td>Cwmbran Town</td>\n",
       "      <td>51.6427° N, 3.0214° W</td>\n",
       "    </tr>\n",
       "    <tr>\n",
       "      <th>1</th>\n",
       "      <td>6000</td>\n",
       "      <td>Jenner Park stadium</td>\n",
       "      <td>CF62 9BG</td>\n",
       "      <td>Barry Town United, Barry Town United Women</td>\n",
       "      <td>51.4114° N, 3.2680° W</td>\n",
       "    </tr>\n",
       "    <tr>\n",
       "      <th>2</th>\n",
       "      <td>6000</td>\n",
       "      <td>The Remax Stadium</td>\n",
       "      <td>LL11 2AH</td>\n",
       "      <td>Port Talbot Town, Port Talbot Town Ladies</td>\n",
       "      <td>53.0516° N, 3.0043° W</td>\n",
       "    </tr>\n",
       "    <tr>\n",
       "      <th>3</th>\n",
       "      <td>5078</td>\n",
       "      <td>Newport Stadium</td>\n",
       "      <td>NP19 0UU</td>\n",
       "      <td>Newport City</td>\n",
       "      <td>51.5896° N, 2.9913° W</td>\n",
       "    </tr>\n",
       "    <tr>\n",
       "      <th>4</th>\n",
       "      <td>5000</td>\n",
       "      <td>Latham Park</td>\n",
       "      <td>CW15 1AE</td>\n",
       "      <td>\\tNewtown</td>\n",
       "      <td>53.155° N, 2.458° W</td>\n",
       "    </tr>\n",
       "  </tbody>\n",
       "</table>\n",
       "</div>"
      ],
      "text/plain": [
       "  capacity              stadium  postcode  \\\n",
       "0    10500      cwmbran stadium  NP44 3YS   \n",
       "1     6000  Jenner Park stadium  CF62 9BG   \n",
       "2     6000    The Remax Stadium  LL11 2AH   \n",
       "3     5078      Newport Stadium  NP19 0UU   \n",
       "4     5000          Latham Park  CW15 1AE   \n",
       "\n",
       "                                      team(s) latitude and longitude  \n",
       "0                                Cwmbran Town  51.6427° N, 3.0214° W  \n",
       "1  Barry Town United, Barry Town United Women  51.4114° N, 3.2680° W  \n",
       "2   Port Talbot Town, Port Talbot Town Ladies  53.0516° N, 3.0043° W  \n",
       "3                                Newport City  51.5896° N, 2.9913° W  \n",
       "4                                   \\tNewtown    53.155° N, 2.458° W  "
      ]
     },
     "execution_count": 26,
     "metadata": {},
     "output_type": "execute_result"
    }
   ],
   "source": [
    "df.head()"
   ]
  },
  {
   "cell_type": "code",
   "execution_count": 27,
   "metadata": {},
   "outputs": [],
   "source": [
    "# Clean the data - remove empty rows\n",
    "df = df.dropna(how='all')\n",
    "\n",
    "# Function to extract latitude and longitude from the string\n",
    "def extract_lat_lon(coord_str):\n",
    "    try:\n",
    "        if pd.isna(coord_str):\n",
    "            return None, None\n",
    "        parts = coord_str.split(',')\n",
    "        lat_part = parts[0].strip()\n",
    "        lon_part = parts[1].strip()\n",
    "        \n",
    "        lat = float(lat_part.split('°')[0])\n",
    "        if 'S' in lat_part:\n",
    "            lat = -lat\n",
    "            \n",
    "        lon = float(lon_part.split('°')[0])\n",
    "        if 'W' in lon_part:\n",
    "            lon = -lon\n",
    "        elif 'E' in lon_part:\n",
    "            pass  # lon is already positive\n",
    "        else:\n",
    "            # Handle cases where direction isn't specified but value is negative\n",
    "            if float(lon_part.split('°')[0]) < 0:\n",
    "                lon = float(lon_part.split('°')[0])\n",
    "            \n",
    "        return lat, lon\n",
    "    except:\n",
    "        return None, None"
   ]
  },
  {
   "cell_type": "code",
   "execution_count": 28,
   "metadata": {},
   "outputs": [],
   "source": [
    "# Apply the function to create latitude and longitude columns\n",
    "df['latitude'], df['longitude'] = zip(*df['latitude and longitude'].apply(extract_lat_lon))\n",
    "\n",
    "# Drop rows where we couldn't get coordinates\n",
    "df = df.dropna(subset=['latitude', 'longitude'])\n",
    "\n",
    "# Create a map centered on Wales\n",
    "wales_map = folium.Map(location=[52.1307, -3.7837], zoom_start=8)"
   ]
  },
  {
   "cell_type": "code",
   "execution_count": 29,
   "metadata": {},
   "outputs": [],
   "source": [
    "# Add markers for each stadium\n",
    "for idx, row in df.iterrows():\n",
    "    popup_text = f\"\"\"\n",
    "    <b>Stadium:</b> {row['stadium']}<br>\n",
    "    <b>Capacity:</b> {row['capacity']}<br>\n",
    "    <b>Team(s):</b> {row['team(s)']}<br>\n",
    "    <b>Postcode:</b> {row['postcode']}\n",
    "    \"\"\"\n",
    "    \n",
    "    folium.Marker(\n",
    "        location=[row['latitude'], row['longitude']],\n",
    "        popup=folium.Popup(popup_text, max_width=300),\n",
    "        tooltip=row['stadium']\n",
    "    ).add_to(wales_map)"
   ]
  },
  {
   "cell_type": "code",
   "execution_count": 30,
   "metadata": {},
   "outputs": [
    {
     "name": "stdout",
     "output_type": "stream",
     "text": [
      "Map created successfully! Open 'welsh_football_stadiums.html' in your browser.\n"
     ]
    }
   ],
   "source": [
    "# Save the map to an HTML file\n",
    "wales_map.save('welsh_football_stadiums.html')\n",
    "\n",
    "print(\"Map created successfully! Open 'welsh_football_stadiums.html' in your browser.\")"
   ]
  },
  {
   "cell_type": "code",
   "execution_count": null,
   "metadata": {},
   "outputs": [
    {
     "data": {
      "text/plain": [
       "True"
      ]
     },
     "execution_count": 31,
     "metadata": {},
     "output_type": "execute_result"
    }
   ],
   "source": [
    "# Save the map\n",
    "map_file = 'welsh_football_stadiums.html'\n",
    "wales_map.save(map_file)\n",
    "\n",
    "# Open in default browser\n",
    "webbrowser.open(map_file)"
   ]
  }
 ],
 "metadata": {
  "kernelspec": {
   "display_name": "base",
   "language": "python",
   "name": "python3"
  },
  "language_info": {
   "codemirror_mode": {
    "name": "ipython",
    "version": 3
   },
   "file_extension": ".py",
   "mimetype": "text/x-python",
   "name": "python",
   "nbconvert_exporter": "python",
   "pygments_lexer": "ipython3",
   "version": "3.11.7"
  }
 },
 "nbformat": 4,
 "nbformat_minor": 2
}
